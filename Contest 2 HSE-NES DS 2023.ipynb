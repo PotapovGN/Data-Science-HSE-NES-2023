{
 "cells": [
  {
   "cell_type": "code",
   "execution_count": 19,
   "id": "138550b2",
   "metadata": {},
   "outputs": [
    {
     "name": "stdout",
     "output_type": "stream",
     "text": [
      "1\n",
      "0\n",
      "8\n",
      "3\n",
      "6\n",
      "0\n",
      "False\n"
     ]
    }
   ],
   "source": [
    "## Задача A\n",
    "## Новый Роутер\n",
    "x_a = int(input())\n",
    "y_a = int(input())\n",
    "x_b = int(input())\n",
    "y_b = int(input())\n",
    "x_c = int(input())\n",
    "y_c = int(input())\n",
    "\n",
    "\n",
    "if (max(x_a, x_b) >= x_c and min(x_a, x_b) <= x_c) and (max(y_a, y_b) >= y_c and min(y_a, y_b) <= y_c): \n",
    "    print('False')\n",
    "else:\n",
    "    x_a_2 = 2 * x_c - x_a\n",
    "    y_a_2 = 2 * y_c - y_a\n",
    "    x_b_2 = 2 * x_c - x_b\n",
    "    y_b_2 = 2 * y_c - y_b\n",
    "    \n",
    "    print(x_a_2)\n",
    "    print(y_a_2)\n",
    "    print(x_b_2)\n",
    "    print(y_b_2)"
   ]
  },
  {
   "cell_type": "code",
   "execution_count": 49,
   "id": "00b0417f",
   "metadata": {},
   "outputs": [
    {
     "name": "stdout",
     "output_type": "stream",
     "text": [
      "5\n",
      "2\n",
      "abc\n",
      "df\n",
      "ab\n",
      "abcdf\n",
      "0\n",
      "abc\n",
      "df*ab\n",
      "abcdf\n"
     ]
    }
   ],
   "source": [
    "## Задача B\n",
    "## Письмо в службу поддержки\n",
    "a = int(input())\n",
    "b = int(input())\n",
    "s = []\n",
    "k_slov = 0\n",
    "k_space = a\n",
    "\n",
    "while True:\n",
    "    p = input()\n",
    "    if p != '0':\n",
    "        s.append(p)\n",
    "    else:\n",
    "        break\n",
    "        \n",
    "for i in range(len(s)):\n",
    "    if (k_slov < b) and (k_space >= len(s[i])):\n",
    "            if i == len(s) - 1:\n",
    "                s[i] = s[i]\n",
    "            else:\n",
    "                s[i] = s[i] + ' '\n",
    "            k_slov = k_slov + 1\n",
    "            k_space = k_space - len(s[i])\n",
    "    else:\n",
    "        s[i-1] = s[i-1].replace(\" \", \"\\n\")\n",
    "        if i == len(s) - 1:\n",
    "            s[i] = s[i]\n",
    "        else:\n",
    "            s[i] = s[i] + ' '\n",
    "        k_slov = 1\n",
    "        k_space = a - len(s[i])\n",
    "\n",
    "\n",
    "string = ''.join(map(str, s))\n",
    "print(string)"
   ]
  },
  {
   "cell_type": "code",
   "execution_count": 3,
   "id": "715f478e",
   "metadata": {},
   "outputs": [
    {
     "name": "stdout",
     "output_type": "stream",
     "text": [
      "3\n",
      "2333\n"
     ]
    }
   ],
   "source": [
    "## Задача C\n",
    "##Очень сложный пароль\n",
    "i = int(input())\n",
    "parol = 333\n",
    "k_troek = 0\n",
    "poryadok = 0\n",
    "\n",
    "while (poryadok != i):\n",
    "    parol_string = str(parol)\n",
    "    for j in range(len(parol_string)):\n",
    "        if parol_string[j] == '3':\n",
    "            k_troek = k_troek + 1\n",
    "    if k_troek == 3:\n",
    "        poryadok = poryadok + 1\n",
    "    k_troek = 0\n",
    "    parol = parol + 1\n",
    "    \n",
    "parol = parol - 1\n",
    "print(parol)\n"
   ]
  },
  {
   "cell_type": "code",
   "execution_count": 25,
   "id": "9ad48a9e",
   "metadata": {},
   "outputs": [
    {
     "name": "stdout",
     "output_type": "stream",
     "text": [
      "asdfghjkkjhg\n",
      "True\n"
     ]
    }
   ],
   "source": [
    "## Задача D\n",
    "## Contains Duplicate Symbols\n",
    "string = input()\n",
    "k = 0\n",
    "true_or_false = False\n",
    "\n",
    "for i in range(len(string)):\n",
    "    \n",
    "    for j in range(len(string)):\n",
    "        if (string[i] == string[j]):\n",
    "            k = k + 1\n",
    "            \n",
    "    if (k > 1):\n",
    "        true_or_false = True\n",
    "    k = 0\n",
    "    \n",
    "print(true_or_false)"
   ]
  },
  {
   "cell_type": "code",
   "execution_count": 89,
   "id": "80cce92b",
   "metadata": {},
   "outputs": [
    {
     "name": "stdout",
     "output_type": "stream",
     "text": [
      "accbbb\n",
      "1\n",
      "{'a': 1, 'c': 2, 'b': 3}\n",
      "['b', 'c']\n"
     ]
    }
   ],
   "source": [
    "## Задача E\n",
    "## Повторяющиеся подстроки\n",
    "string = input()\n",
    "n = int(input())\n",
    "podstroki = []\n",
    "slovar = {}\n",
    "povtory = []\n",
    "\n",
    "for i in range(len(string)):\n",
    "    if i + n <= len(string):\n",
    "        k = string[i: i + n]\n",
    "        podstroki.append(k)\n",
    "    else:\n",
    "        break\n",
    "        \n",
    "for i in range(len(podstroki)):\n",
    "    if podstroki[i] in slovar:\n",
    "        slovar[podstroki[i]] += 1\n",
    "    else:\n",
    "        slovar[podstroki[i]] = 1\n",
    "\n",
    "for key in slovar:\n",
    "    if slovar[key] > 1:\n",
    "        povtory.append(key)   \n",
    "povtory = sorted(povtory)\n",
    "print(povtory)"
   ]
  },
  {
   "cell_type": "code",
   "execution_count": 25,
   "id": "e51b0a31",
   "metadata": {},
   "outputs": [
    {
     "name": "stdout",
     "output_type": "stream",
     "text": [
      "4\n",
      "60\n"
     ]
    }
   ],
   "source": [
    "## Задача F\n",
    "## Взрывоопасность\n",
    "import math\n",
    "\n",
    "def cnk(n, k):\n",
    "    return math.factorial(n) // (math.factorial(k) * math.factorial(n - k))\n",
    "\n",
    "n = int(input())\n",
    "ans = 2 ** n\n",
    "for i in range(1, n + 1):\n",
    "    k = 2 ** (n - i)\n",
    "    for first_a in range(n):\n",
    "        left = n - first_a\n",
    "        if left - i + 1 >= 0 and left - i - i + 1 >= 0:\n",
    "            ans = ans + k * cnk(left - i, i - 1) \n",
    "print(ans)"
   ]
  },
  {
   "cell_type": "code",
   "execution_count": 52,
   "id": "4e2bf056",
   "metadata": {},
   "outputs": [
    {
     "name": "stdout",
     "output_type": "stream",
     "text": [
      "4\n",
      "1\n",
      "n =  4\n",
      "k =  1\n",
      "1 3 2 4\n",
      "3 3 1 2\n",
      "3 3 3 2\n",
      "2 4\n",
      "Словарь разъем-провода:  {0: [1, 3, 2, 4], 1: [3, 3, 1, 2], 2: [3, 3, 3, 2], 3: [2, 4]}\n",
      "4\n",
      "Забракованные: [4]\n",
      "Максимальный номер провода:  4\n",
      "Неотсортированный словарь провод - количество разъемов: {1: 0, 2: 0, 3: 0, 4: 0}\n",
      "Неотсортированный словарь без брака провод - количество разъемов: {1: 0, 2: 0, 3: 0}\n",
      "Отсортированный словарь провод - количество разъемов: {1: 0, 2: 0, 3: 0}\n",
      "Массив количества разъемов по убыванию:  [0, 0, 0]\n",
      "0\n"
     ]
    }
   ],
   "source": [
    "## Задача G\n",
    "## Провода и разъемы\n",
    "n = int(input())\n",
    "k = int(input())\n",
    "prov = {}\n",
    "\n",
    "## Вводим по отдельности каждый разъем\n",
    "for i in range(n):\n",
    "    r = list(map(int, input().split()))\n",
    "    ## Убираем оттуда повторяющиеся номера проводов\n",
    "    r_new = []\n",
    "    for j in range(len(r)):\n",
    "        if r[j] not in r_new:\n",
    "            r_new.append(r[j])\n",
    "\n",
    "    ## Словарь Провод - Количество вхождений\n",
    "    for j in r_new:\n",
    "        ## Если провод уже встречался ранее, увеличиваем количество вхождений на 1\n",
    "        if j in prov:\n",
    "            prov[j] += 1\n",
    "        ## Если не встречался, создаем новый ключ и присваиваем ему значение 1\n",
    "        else:\n",
    "            prov[j] = 1\n",
    "\n",
    "## Вводим, какие провода забракованы          \n",
    "brak = list(map(int, input().split()))\n",
    "## Удаляем из словаря забракованные провода\n",
    "for i in range(len(brak)):\n",
    "    if brak[i] in prov:\n",
    "        del prov[brak[i]]    \n",
    "\n",
    "# Сортируем наш словарь\n",
    "sorted_prov = {}\n",
    "sorted_keys = sorted(prov, key = prov.get)\n",
    "for i in sorted_keys:\n",
    "    sorted_prov[i] = prov[i]\n",
    "\n",
    "## Созадем массив количества вхождений\n",
    "prov_k = []\n",
    "for key in sorted_prov.keys():\n",
    "    prov_k.append(sorted_prov[key])\n",
    "## Сортируем его в обратном порядке\n",
    "prov_k.sort(reverse = True)\n",
    "\n",
    "## Создаем массив лучших k проводов по количеству вхождений\n",
    "prov_2_k = []\n",
    "for j in range(k):\n",
    "    prov_2_k.append(prov_k[j])\n",
    "    \n",
    "## Сортируем его в порядке возрастания    \n",
    "prov_2_k.sort()\n",
    "\n",
    "## Выводим его\n",
    "for i in range(k):\n",
    "    print(prov_2_k[i])  "
   ]
  },
  {
   "cell_type": "code",
   "execution_count": 52,
   "id": "ed953b95",
   "metadata": {},
   "outputs": [
    {
     "name": "stdout",
     "output_type": "stream",
     "text": [
      "2\n",
      "3\n",
      "*   * *   * *   *\n",
      "*  ** *  ** *  **\n",
      "* * * * * * * * *\n",
      "**  * **  * **  *\n",
      "*   * *   * *   *\n",
      "                 \n",
      "*   * *   * *   *\n",
      "*  ** *  ** *  **\n",
      "* * * * * * * * *\n",
      "**  * **  * **  *\n",
      "*   * *   * *   *\n"
     ]
    }
   ],
   "source": [
    "## Задача H\n",
    "## Пахом и орфография\n",
    "a = int(input())\n",
    "b = int(input())\n",
    "\n",
    "for i in range(a-1):\n",
    "    print('*   * '*(b-1)+'*   *')\n",
    "    print('*  ** '*(b-1)+'*  **')\n",
    "    print('* * * '*(b-1)+'* * *')\n",
    "    print('**  * '*(b-1)+'**  *')\n",
    "    print('*   * '*(b-1)+'*   *')\n",
    "    print(' '*(5*b+b-1))\n",
    "    \n",
    "print('*   * '*(b-1)+'*   *')\n",
    "print('*  ** '*(b-1)+'*  **')\n",
    "print('* * * '*(b-1)+'* * *')\n",
    "print('**  * '*(b-1)+'**  *')\n",
    "print('*   * '*(b-1)+'*   *')"
   ]
  },
  {
   "cell_type": "code",
   "execution_count": 26,
   "id": "ce89dfa0",
   "metadata": {},
   "outputs": [
    {
     "name": "stdout",
     "output_type": "stream",
     "text": [
      "Pa55word12\n",
      "4\n",
      "5\n",
      "1\n",
      "YES\n",
      "NO\n"
     ]
    }
   ],
   "source": [
    "## Задача I\n",
    "## Слишком сложный пароль\n",
    "password = input()\n",
    "k_zaglav = 0\n",
    "k_stroch = 0\n",
    "k_zifr = 0\n",
    "\n",
    "for i in range(len(password)):\n",
    "    if ord(password[i]) >= 48 and ord(password[i]) <= 57:\n",
    "        k_zifr += 1\n",
    "    if ord(password[i]) >= 65 and ord(password[i]) <= 90:\n",
    "        k_zaglav += 1\n",
    "    if ord(password[i]) >= 97 and ord(password[i]) <= 122:\n",
    "        k_stroch += 1\n",
    "\n",
    "if k_zifr > 0 and k_zaglav > 0 and k_stroch > 0:\n",
    "    print('YES')\n",
    "else:\n",
    "    print('NO')\n",
    "    \n",
    "if k_zifr <= 3 and len(password) <= 10:\n",
    "    print('YES')\n",
    "else:\n",
    "    print('NO')"
   ]
  },
  {
   "cell_type": "code",
   "execution_count": 87,
   "id": "2fc51a4f",
   "metadata": {},
   "outputs": [],
   "source": [
    "## Задача J\n",
    "## Файлы-файлы\n",
    "\n",
    "with open('input.txt', 'r') as f:\n",
    "    string_1 = f.readlines()\n",
    "    \n",
    "string = ' '.join(map(str, string_1))\n",
    "w = string.split(' ')\n",
    "words_1 = [line.rstrip() for line in w]\n",
    "\n",
    "words_2 = []\n",
    "for i in range(len(words_1)):\n",
    "    if (words_1[i][0] != '.') and ('.hlm' in words_1[i] or '.brhl' in words_1[i]) and (words_1[i].islower() == True):\n",
    "        words_2.append(words_1[i])\n",
    "        \n",
    "\n",
    "\n",
    "for j in range(len(words_2)):\n",
    "    if words_2[j][len(words_2[j]) - 1] == \".\":\n",
    "        words_2[j] = words_2[j][:-1]\n",
    "        \n",
    "\n",
    "\n",
    "words_3 = []\n",
    "\n",
    "for i in range(len(words_2)):\n",
    "    if words_2[i][len(words_2[i]) - 1] == 'm':\n",
    "        if words_2[i][len(words_2[i]) - 2] == 'l':\n",
    "            if words_2[i][len(words_2[i]) - 3] == 'h':\n",
    "                if words_2[i][len(words_2[i]) - 4] == '.':\n",
    "                    words_3.append(words_2[i])\n",
    "    if words_2[i][len(words_2[i]) - 1] == 'l':\n",
    "        if words_2[i][len(words_2[i]) - 2] == 'h':\n",
    "            if words_2[i][len(words_2[i]) - 3] == 'r':\n",
    "                if words_2[i][len(words_2[i]) - 4] == 'b':\n",
    "                    if words_2[i][len(words_2[i]) - 5] == '.':\n",
    "                        words_3.append(words_2[i])\n",
    "\n",
    "string_2 = '\\n'.join(map(str, words_3))\n",
    "\n",
    "with open('output.txt', 'w') as f_1:\n",
    "    f_1.write(string_2)"
   ]
  }
 ],
 "metadata": {
  "kernelspec": {
   "display_name": "Python 3 (ipykernel)",
   "language": "python",
   "name": "python3"
  },
  "language_info": {
   "codemirror_mode": {
    "name": "ipython",
    "version": 3
   },
   "file_extension": ".py",
   "mimetype": "text/x-python",
   "name": "python",
   "nbconvert_exporter": "python",
   "pygments_lexer": "ipython3",
   "version": "3.9.12"
  }
 },
 "nbformat": 4,
 "nbformat_minor": 5
}
