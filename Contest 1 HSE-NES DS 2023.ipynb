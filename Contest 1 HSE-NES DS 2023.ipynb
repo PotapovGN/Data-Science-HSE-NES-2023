{
 "cells": [
  {
   "cell_type": "code",
   "execution_count": 23,
   "id": "d5f61e36",
   "metadata": {},
   "outputs": [
    {
     "name": "stdout",
     "output_type": "stream",
     "text": [
      "7 2\n",
      "1\n"
     ]
    }
   ],
   "source": [
    "## Задача 1 из Первого Контеста\n",
    "#### Остаток от деления на C++\n",
    "a, b = map(int,input().split())\n",
    "\n",
    "if (a < 0):\n",
    "    c = (-1)*(abs(a) % b)\n",
    "else:\n",
    "    c = a % b\n",
    "print(c)"
   ]
  },
  {
   "cell_type": "code",
   "execution_count": 25,
   "id": "cde654af",
   "metadata": {},
   "outputs": [
    {
     "name": "stdout",
     "output_type": "stream",
     "text": [
      "20\n",
      "21\n",
      "22\n",
      "32\n"
     ]
    }
   ],
   "source": [
    "## Задача 2 из Первого Контеста\n",
    "#### Парты\n",
    "a = int(input())\n",
    "b = int(input())\n",
    "c = int(input())\n",
    "k1 = (a // 2) + (a % 2)\n",
    "k2 = (b // 2) + (b % 2)\n",
    "k3 = (c // 2) + (c % 2)\n",
    "sum = k1 + k2 + k3\n",
    "print(sum)"
   ]
  },
  {
   "cell_type": "code",
   "execution_count": 29,
   "id": "3cbbedfd",
   "metadata": {},
   "outputs": [
    {
     "name": "stdout",
     "output_type": "stream",
     "text": [
      "1\n",
      "1\n",
      "1\n",
      "1\n",
      "3\n"
     ]
    }
   ],
   "source": [
    "## Задача 3 из Первого Контеста\n",
    "#### Шнурки\n",
    "a = int(input())\n",
    "b = int(input())\n",
    "l = int(input())\n",
    "N = int(input())\n",
    "length = 2*l + (2*N-1)*a + 2*b*(N-1)\n",
    "print(length)"
   ]
  },
  {
   "cell_type": "code",
   "execution_count": 32,
   "id": "ff94b9ca",
   "metadata": {},
   "outputs": [
    {
     "name": "stdout",
     "output_type": "stream",
     "text": [
      "96\n",
      "1\n",
      "0\n",
      "83\n",
      "0\n"
     ]
    }
   ],
   "source": [
    "## Задача 4 из Первого Контеста\n",
    "#### Земля!\n",
    "N = int(input())\n",
    "M = int(input())\n",
    "x = int(input())\n",
    "y = int(input())\n",
    "\n",
    "## Сначала нужно понять, какой бор длинный, а какой короткий\n",
    "if (N <= M):\n",
    "    ## В задаче сказано, что необязательно это расстояние от ближайшего борта\n",
    "    ## Если это расстояние больше половины расстояния между бортами, то\n",
    "    ## расстояние до ближайшего борта будет равно (Расстояние между бортами - Расстояние до дальнего)\n",
    "    if (x >= (N/2)):\n",
    "        a = N - x\n",
    "    else:\n",
    "        a = x\n",
    "    if (y >= (M/2)):\n",
    "        b = M - y\n",
    "    else:\n",
    "        b = y\n",
    "else:\n",
    "    if (x >= (M/2)):\n",
    "        a = M - x\n",
    "    else:\n",
    "        a = x\n",
    "    if (y >= (N/2)):\n",
    "        b = N - y\n",
    "    else:\n",
    "        b = y\n",
    "\n",
    "if (a >= b):\n",
    "    print(b)\n",
    "else:\n",
    "    print(a)"
   ]
  },
  {
   "cell_type": "code",
   "execution_count": 39,
   "id": "5239dc4f",
   "metadata": {},
   "outputs": [
    {
     "name": "stdout",
     "output_type": "stream",
     "text": [
      "10\n",
      "3\n",
      "2\n",
      "8\n"
     ]
    }
   ],
   "source": [
    "## Задача 5 из Первого Контеста\n",
    "#### Улитка\n",
    "h = int(input())\n",
    "a = int(input())\n",
    "b = int(input())\n",
    "## Введем высоту s на которой находится улитка в день d\n",
    "s = 0\n",
    "d = 0\n",
    "\n",
    "## Будем использовать цикл while, то есть считать дни пока улитка не доберется\n",
    "while (s < h):\n",
    "    ## Когда улитка дойдет до вершины, то нам уже не нужно будет вычитать b и цикл завершится\n",
    "    if (s + a >= h):\n",
    "        ## Прибавляем день, она же его потратила,чтобы подняться\n",
    "        d = d + 1\n",
    "        break\n",
    "    ## Прибавляем к итоговой высоте величину a (на сколько метров она поднимется) и b (на сколько опустится)\n",
    "    s = s + a - b\n",
    "    ## Прибавляем день\n",
    "    d = d + 1\n",
    "    \n",
    "print(d)\n"
   ]
  },
  {
   "cell_type": "code",
   "execution_count": null,
   "id": "e0f58168",
   "metadata": {},
   "outputs": [],
   "source": []
  }
 ],
 "metadata": {
  "kernelspec": {
   "display_name": "Python 3 (ipykernel)",
   "language": "python",
   "name": "python3"
  },
  "language_info": {
   "codemirror_mode": {
    "name": "ipython",
    "version": 3
   },
   "file_extension": ".py",
   "mimetype": "text/x-python",
   "name": "python",
   "nbconvert_exporter": "python",
   "pygments_lexer": "ipython3",
   "version": "3.9.12"
  }
 },
 "nbformat": 4,
 "nbformat_minor": 5
}
